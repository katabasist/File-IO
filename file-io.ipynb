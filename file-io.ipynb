{
 "cells": [
  {
   "cell_type": "markdown",
   "metadata": {},
   "source": [
    "File I/O\n",
    "-------"
   ]
  },
  {
   "cell_type": "code",
   "execution_count": 1,
   "metadata": {},
   "outputs": [
    {
     "name": "stdout",
     "output_type": "stream",
     "text": [
      "Hello world\n"
     ]
    }
   ],
   "source": [
    "print(\"Hello world\")"
   ]
  },
  {
   "cell_type": "code",
   "execution_count": 2,
   "metadata": {},
   "outputs": [],
   "source": [
    "iliad_1 = \"\"\"Encouraged thus, the blameless man replies:\n",
    "“Nor vows unpaid, nor slighted sacrifice,\n",
    "But he, our chief, provoked the raging pest,\n",
    "Apollo’s vengeance for his injured priest.\n",
    "Nor will the god’s awaken’d fury cease,\n",
    "But plagues shall spread, and funeral fires increase,\n",
    "Till the great king, without a ransom paid,\n",
    "To her own Chrysa send the black-eyed maid.[54]\n",
    "Perhaps, with added sacrifice and prayer,\n",
    "The priest may pardon, and the god may spare.” \"\"\""
   ]
  },
  {
   "cell_type": "code",
   "execution_count": null,
   "metadata": {},
   "outputs": [],
   "source": [
    "with open(\"./iliad_1.txt\", \"w+\") as f:\n",
    "    # with opens a block like for/if\n",
    "    # ./ indicates current directory, within current directory\n",
    "    chars = f.write(iliad_1)"
   ]
  }
 ],
 "metadata": {
  "kernelspec": {
   "display_name": "Python 3",
   "language": "python",
   "name": "python3"
  },
  "language_info": {
   "codemirror_mode": {
    "name": "ipython",
    "version": 3
   },
   "file_extension": ".py",
   "mimetype": "text/x-python",
   "name": "python",
   "nbconvert_exporter": "python",
   "pygments_lexer": "ipython3",
   "version": "3.12.1"
  }
 },
 "nbformat": 4,
 "nbformat_minor": 2
}
